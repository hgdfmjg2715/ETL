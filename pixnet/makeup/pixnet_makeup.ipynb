{
 "cells": [
  {
   "cell_type": "code",
   "execution_count": 1,
   "metadata": {},
   "outputs": [
    {
     "name": "stdout",
     "output_type": "stream",
     "text": [
      "1 : 01:34:04\n",
      "https://styleme.pixnet.net/post/204993688\n",
      "875\n",
      "https://styleme.pixnet.net/post/176548078\n",
      "1478\n",
      "1 finish : 02:12:12\n",
      "2 : 02:14:06\n",
      "2 finish : 02:35:50\n",
      "3 : 02:39:01\n",
      "https://styleme.pixnet.net/post/216023975\n",
      "250\n",
      "https://styleme.pixnet.net/post/215066237\n",
      "332\n",
      "https://styleme.pixnet.net/post/206767996\n",
      "920\n",
      "https://styleme.pixnet.net/post/205017718\n",
      "985\n",
      "https://styleme.pixnet.net/post/207423874\n",
      "1851\n",
      "3 finish : 03:14:30\n",
      "4 : 03:16:00\n",
      "https://styleme.pixnet.net/post/202732654\n",
      "356\n",
      "4 finish : 03:30:54\n"
     ]
    }
   ],
   "source": [
    "import json\n",
    "import requests as r\n",
    "import os\n",
    "import time\n",
    "from bs4 import BeautifulSoup\n",
    "\n",
    "\n",
    "with open('/home/ubuntu/project/pixnet/makeup/alinks.txt', 'r') as f:\n",
    "    catelog = f.read()\n",
    "catelog = catelog.split('\\n')\n",
    "j = 1\n",
    "for ca in catelog:\n",
    "    flag = True\n",
    "    k = 1\n",
    "    key = 'pagination__page--next'\n",
    "    alinks = []\n",
    "    while (flag == True):\n",
    "        url = \"{}?page={}\".format(ca,k)\n",
    "        res = r.get(url)\n",
    "        soup = BeautifulSoup(res.text,'html5lib')\n",
    "        link = ['https://styleme.pixnet.net'+link['href'] for link in soup.select('ul > li > div > a')]\n",
    "        alinks = alinks + link\n",
    "        #判斷是否有下一頁   \n",
    "        if(key in res.text):\n",
    "            k = k + 1\n",
    "        else:\n",
    "            flag = False\n",
    "        time.sleep(0.5)\n",
    "    #創資料夾\n",
    "    path = '/home/ubuntu/project/pixnet/makeup/{}/'.format(j)\n",
    "    print('{} : '.format(j) + time.strftime(\"%H:%M:%S\"))\n",
    "    if not os.path.isdir(path):\n",
    "        os.mkdir(path)\n",
    "    with open(path+'alinks.txt', 'w') as file:\n",
    "        for link in alinks:\n",
    "            file.write(link+'\\n')\n",
    "    j = j + 1\n",
    "    \n",
    "    \n",
    "    for i in range(0,len(alinks)):\n",
    "        url = alinks[i]\n",
    "        res = r.get(url)\n",
    "        soup = BeautifulSoup(res.text, 'html5lib')\n",
    "        article = {}\n",
    "        article['url'] = alinks[i]\n",
    "        try:\n",
    "            article['title'] = soup.select('h1.post__info__title')[0].text\n",
    "            article['time'] = soup.select('p.post__time__year')[0].text +','+ soup.select('p.post__time__month')[0].text+ ',' + soup.select('p.post__time__day')[0].text\n",
    "            text = ''\n",
    "            for a in soup.select('div > article > div > p'):\n",
    "                text = text + a.text + '\\n'\n",
    "            article['content'] = text\n",
    "            with open(path+'{}.json'.format(article['title']).replace('\\t','').replace('\\\\', 'bs').replace('/', 's').replace(':', 'c').replace('<', 'less').replace('?', 'q').replace('\\\"', 'dq').replace('>', 'more').replace('\\x08', '@').replace('|', 'p').replace(\"*\", 's'), 'w') as f:\n",
    "                json.dump(article, f)\n",
    "        except:\n",
    "            print(article['url'])\n",
    "            print(i)\n",
    "            continue\n",
    "        time.sleep(0.5)\n",
    "    print('{} finish : '.format(j-1) + time.strftime(\"%H:%M:%S\"))"
   ]
  },
  {
   "cell_type": "code",
   "execution_count": 2,
   "metadata": {},
   "outputs": [
    {
     "data": {
      "text/plain": [
       "2"
      ]
     },
     "execution_count": 2,
     "metadata": {},
     "output_type": "execute_result"
    }
   ],
   "source": [
    "j"
   ]
  },
  {
   "cell_type": "code",
   "execution_count": null,
   "metadata": {
    "collapsed": true
   },
   "outputs": [],
   "source": []
  }
 ],
 "metadata": {
  "kernelspec": {
   "display_name": "Python 3",
   "language": "python",
   "name": "python3"
  },
  "language_info": {
   "codemirror_mode": {
    "name": "ipython",
    "version": 3
   },
   "file_extension": ".py",
   "mimetype": "text/x-python",
   "name": "python",
   "nbconvert_exporter": "python",
   "pygments_lexer": "ipython3",
   "version": "3.6.1"
  }
 },
 "nbformat": 4,
 "nbformat_minor": 2
}
