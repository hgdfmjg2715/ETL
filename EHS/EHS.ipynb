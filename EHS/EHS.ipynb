{
 "cells": [
  {
   "cell_type": "code",
   "execution_count": 104,
   "metadata": {
    "scrolled": true
   },
   "outputs": [],
   "source": [
    "import splinter\n",
    "from bs4 import BeautifulSoup\n",
    "import os\n",
    "import time\n",
    "import json\n",
    "import shutil\n",
    "import requests as r\n",
    "\n",
    "browser = splinter.Browser('chrome')\n",
    "\n",
    "url = 'http://www.etmall.com.tw/SList?StoreID=3&CategoryID=99296'\n",
    "browser.visit(url)\n",
    "soup = BeautifulSoup(browser.html,'html5lib')\n",
    "cate = soup.select('div.open-category > a.wowowowo')\n",
    "\n",
    "#find all category that i want\n",
    "cate = cate[0:17]\n",
    "catelog = []\n",
    "cateid = []\n",
    "\n",
    "#select all category name and id\n",
    "for a in cate:\n",
    "    catelog.append(a.text)\n",
    "    cateid.append(a['cateid'])\n",
    "\n",
    "#begin find all data\n",
    "for i in range(0,len(catelog)):\n",
    "    catelog[i] = catelog[i].replace('／','or')\n",
    "    path = '/home/ubuntu/project/EHS/{}/'.format(catelog[i])\n",
    "    if not os.path.isdir(path):\n",
    "        os.mkdir(path)\n",
    "    url = 'http://www.etmall.com.tw/SList?StoreID=3&CategoryID={}'.format(cateid[i])\n",
    "    browser.visit(url)\n",
    "    soup = BeautifulSoup(browser.html,'html5lib')\n",
    "    time.sleep(0.4)\n",
    "    title = []\n",
    "    for a in soup.select('div.GOOD-InfoBox > div.GOOD-NM > a'):\n",
    "        title.append(a.text)\n",
    "    price = []\n",
    "    for a in soup.select('div.GOOD-PRC'): \n",
    "        a = a.text.replace(' ','').replace('$','')\n",
    "        if '優惠價' in a:\n",
    "            a = a[(a.find('優惠價')+3):]\n",
    "        price.append(a)\n",
    "    img = []\n",
    "    for i in soup.select('div.imgSrc > img'):\n",
    "        img.append('http:'+i['src'])\n",
    "    href = []\n",
    "    for i in soup.select('div.GOOD-img > a.GAEventTracking'):\n",
    "        href.append('http://www.etmall.com.tw/' + i['href'])\n",
    "    while soup.select('a.next') :\n",
    "        url = 'http://www.etmall.com.tw{}'.format(soup.select('a.next')[0]['href'])\n",
    "        browser.visit(url)\n",
    "        soup = BeautifulSoup(browser.html,'html5lib')\n",
    "        time.sleep(0.4)\n",
    "        for a in soup.select('div.GOOD-InfoBox > div.GOOD-NM > a'):\n",
    "            title.append(a.text)\n",
    "        for a in soup.select('div.GOOD-PRC'): \n",
    "            a = a.text.replace(' ','').replace('$','')\n",
    "            if '優惠價' in a:\n",
    "                a = a[(a.find('優惠價')+3):]\n",
    "            price.append(a)\n",
    "        for i in soup.select('div.imgSrc > img'):\n",
    "            img.append('http:'+i['src'])\n",
    "        for i in soup.select('div.GOOD-img > a.GAEventTracking'):\n",
    "            href.append('http://www.etmall.com.tw/' + i['href'])\n",
    "    for pic in range(0,len(img)):\n",
    "        item = {}\n",
    "        try:\n",
    "            picture = r.get(img[pic],stream = True)\n",
    "            with open(path+'{}.jpg'.format(title[pic]).replace('\\t','').replace('\\\\', 'bs').replace('/', 's').replace(':', 'c').replace('<', 'less').replace('?', 'q').replace('\\\"', 'dq').replace('>', 'more').replace('\\x08', '@').replace('|', 'p').replace(\"*\", 's'), 'wb') as f:\n",
    "                shutil.copyfileobj(picture.raw,f)\n",
    "        except:\n",
    "            print('url' + ' ' + img[pic] + ' ' +path+'{}.jpg'.format(title[pic]).replace('\\t','').replace('\\\\', 'bs').replace('/', 's').replace(':', 'c').replace('<', 'less').replace('?', 'q').replace('\\\"', 'dq').replace('>', 'more').replace('\\x08', '@').replace('|', 'p').replace(\"*\", 's'))\n",
    "        item['name'] = title[pic]\n",
    "        item['price'] = price[pic]\n",
    "        item['href'] = href[pic]\n",
    "        try:\n",
    "            with open(path + '{}.json'.format(title[pic]).replace('\\t','').replace('\\\\', 'bs').replace('/', 's').replace(':', 'c').replace('<', 'less').replace('?', 'q').replace('\\\"', 'dq').replace('>', 'more').replace('\\x08', '@').replace('|', 'p').replace(\"*\", 's'), 'w') as f:\n",
    "                json.dump(item,f)\n",
    "        except:\n",
    "            print('file'+' ' + title[pic] + ' ' + path + '{}.json'.format(title[pic]).replace('\\t','').replace('\\\\', 'bs').replace('/', 's').replace(':', 'c').replace('<', 'less').replace('?', 'q').replace('\\\"', 'dq').replace('>', 'more').replace('\\x08', '@').replace('|', 'p').replace(\"*\", 's'))\n"
   ]
  },
  {
   "cell_type": "code",
   "execution_count": 99,
   "metadata": {},
   "outputs": [
    {
     "name": "stdout",
     "output_type": "stream",
     "text": [
      "http://www.etmall.com.tw/Prod?nm=ttmax-水凝長效立體光粉霜-4入&StoreID=3&CategoryID=47565&ProductSKU=1736174\n",
      "http://www.etmall.com.tw/Prod?nm=NARUKO牛爾-茶樹痘痘粉刺調理遮瑕膏&StoreID=3&CategoryID=47565&ProductSKU=1797792\n",
      "http://www.etmall.com.tw/Prod?nm=ttmax-精華粉底組-陶瓷美肌三色遮瑕組&StoreID=3&CategoryID=47565&ProductSKU=1718793\n",
      "http://www.etmall.com.tw/Prod?nm=MAYBELLINE-媚比琳-純淨礦物遮瑕筆5-5ML&StoreID=3&CategoryID=47565&ProductSKU=6047811\n",
      "http://www.etmall.com.tw/Prod?nm=SHISEIDO-資生堂-完美遮瑕蜜-20g-2-S100&StoreID=3&CategoryID=47565&ProductSKU=5361152\n",
      "http://www.etmall.com.tw/Prod?nm=SHISEIDO-資生堂-心機-嫩透遮瑕膏EX-3G&StoreID=3&CategoryID=47565&ProductSKU=5369477\n",
      "http://www.etmall.com.tw/Prod?nm=SHISEIDO-資生堂-心機-嫩透遮瑕膏EX-3G&StoreID=3&CategoryID=47565&ProductSKU=1534712\n",
      "http://www.etmall.com.tw/Prod?nm=Dior迪奧-超完美隱形遮瑕膏6ml-020-公司貨無盒版&StoreID=3&CategoryID=47565&ProductSKU=1849238\n",
      "http://www.etmall.com.tw/Prod?nm=韓國LUNA-自然妝感修容遮瑕膏7-5g&StoreID=3&CategoryID=47565&ProductSKU=1832187\n",
      "http://www.etmall.com.tw/Prod?nm=STARSUKI-不思議三色遮瑕盤&StoreID=3&CategoryID=47565&ProductSKU=1831368\n",
      "http://www.etmall.com.tw/Prod?nm=韓國LUNA-持久保濕遮瑕膏7-5g&StoreID=3&CategoryID=47565&ProductSKU=1832186\n",
      "http://www.etmall.com.tw/Prod?nm=RMK-隔離霜-15ml-2&StoreID=3&CategoryID=47565&ProductSKU=1811898\n",
      "http://www.etmall.com.tw/Prod?nm=CHIC-CHOC-亮顏無痕美肌組-4款任選&StoreID=3&CategoryID=47565&ProductSKU=1811272\n",
      "http://www.etmall.com.tw/Prod?nm=日本MICCOSMO-蘋果光CC魔術筆-8g&StoreID=3&CategoryID=47565&ProductSKU=1811110\n",
      "http://www.etmall.com.tw/Prod?nm=ttmax-懶美人素顏雪白霜2入-水潤亮采雙色遮瑕膏2入&StoreID=3&CategoryID=47565&ProductSKU=1797707\n",
      "http://www.etmall.com.tw/Prod?nm=ttmax-懶美人素顏雪白霜2入-完美淨膚遮瑕膏2入&StoreID=3&CategoryID=47565&ProductSKU=1797706\n",
      "http://www.etmall.com.tw/Prod?nm=ttmax-陶瓷肌三色遮瑕盤-2入&StoreID=3&CategoryID=47565&ProductSKU=1797639\n",
      "http://www.etmall.com.tw/Prod?nm=ttmax-陶瓷肌三色遮瑕組-2入組&StoreID=3&CategoryID=47565&ProductSKU=1797637\n",
      "http://www.etmall.com.tw/Prod?nm=CLIO珂莉奧-Kill-Cover專業遮瑕液筆-6g&StoreID=3&CategoryID=47565&ProductSKU=1789224\n",
      "http://www.etmall.com.tw/Prod?nm=KISS-ME-奇士美-花漾美姬明眸亮采蜜12g&StoreID=3&CategoryID=47565&ProductSKU=1782439\n",
      "http://www.etmall.com.tw/Prod?nm=SISLEY-睛采無瑕霜15ml-3杏色&StoreID=3&CategoryID=47565&ProductSKU=1779528\n",
      "http://www.etmall.com.tw/Prod?nm=CHIC-CHOC-柔焦隔離底妝組&StoreID=3&CategoryID=47565&ProductSKU=1770557\n",
      "http://www.etmall.com.tw/Prod?nm=ARITAUM-安瓶按壓式提亮液筆-3g&StoreID=3&CategoryID=47565&ProductSKU=1768667\n",
      "http://www.etmall.com.tw/Prod?nm=ARITAUM-安瓶按壓式遮瑕液筆-3g&StoreID=3&CategoryID=47565&ProductSKU=1768666\n",
      "http://www.etmall.com.tw/Prod?nm=LANCOME-蘭蔻-超輕盈UV水凝露SPF50PA-30ml&StoreID=3&CategoryID=47565&ProductSKU=1765132\n",
      "http://www.etmall.com.tw/Prod?nm=ttmax-水凝長效立體光粉霜-雪紡柔膚礦物蜜粉-4入組&StoreID=3&CategoryID=47565&ProductSKU=1736177\n",
      "http://www.etmall.com.tw/Prod?nm=ttmax-水潤亮采雙色遮瑕膏-3入&StoreID=3&CategoryID=47565&ProductSKU=1735317\n",
      "http://www.etmall.com.tw/Prod?nm=ttmax-珍珠光感舒芙蕾精華粉霜-陶瓷肌三色遮瑕組&StoreID=3&CategoryID=47565&ProductSKU=1735308\n",
      "http://www.etmall.com.tw/Prod?nm=ttmax-全效完美修飾CC霜2入-雪紡柔膚礦物蜜粉1入&StoreID=3&CategoryID=47565&ProductSKU=1735316\n",
      "http://www.etmall.com.tw/Prod?nm=ttmax-完美淨膚遮瑕膏-3入-明亮色-自然色&StoreID=3&CategoryID=47565&ProductSKU=1735318\n",
      "http://www.etmall.com.tw/Prod?nm=ttmax-完美淨膚遮瑕膏-明亮色-自然色&StoreID=3&CategoryID=47565&ProductSKU=1735314\n",
      "http://www.etmall.com.tw/Prod?nm=韓國COVER-QUEEN-第七代遮瑕天后極潤粉凝霜三件組&StoreID=3&CategoryID=47565&ProductSKU=1728860\n",
      "http://www.etmall.com.tw/Prod?nm=Jealousness婕洛妮絲-激光煥白精粹粉凝乳&StoreID=3&CategoryID=47565&ProductSKU=1727889\n",
      "http://www.etmall.com.tw/Prod?nm=Jealousness婕洛妮絲-經典完美底妝旅行組&StoreID=3&CategoryID=47565&ProductSKU=1727647\n",
      "http://www.etmall.com.tw/Prod?nm=NARUKO牛爾-紅薏仁毛孔緊緻隱形寶&StoreID=3&CategoryID=47565&ProductSKU=1727369\n",
      "http://www.etmall.com.tw/Prod?nm=CHIC-CHOC-柔焦修修筆2-1g-共2色&StoreID=3&CategoryID=47565&ProductSKU=1727193\n",
      "http://www.etmall.com.tw/Prod?nm=LEGERE-蘭吉兒-水透亮CC霜雙效遮瑕組SPF50-40gX3入&StoreID=3&CategoryID=47565&ProductSKU=1724854\n",
      "http://www.etmall.com.tw/Prod?nm=LEGERE-蘭吉兒-水透亮CC霜雙效遮瑕組SPF50-40g&StoreID=3&CategoryID=47565&ProductSKU=1724847\n",
      "http://www.etmall.com.tw/Prod?nm=LEGERE-蘭吉兒-水透亮CC霜雙效遮瑕組SPF50-40g&StoreID=3&CategoryID=47565&ProductSKU=1724800\n",
      "http://www.etmall.com.tw/Prod?nm=ttmax-女神妝感精華系列-三色遮瑕-遮瑕刷-精華粉底液-無痕刷-水粉餅-5件組&StoreID=3&CategoryID=47565&ProductSKU=1718801\n",
      "http://www.etmall.com.tw/Prod?nm=ttmax-女神陶瓷肌系列-三色遮瑕-遮瑕刷-精華粉底液-無痕刷-蜜粉-5件組&StoreID=3&CategoryID=47565&ProductSKU=1718800\n",
      "http://www.etmall.com.tw/Prod?nm=ttmax-水潤亮采雙色遮瑕膏&StoreID=3&CategoryID=47565&ProductSKU=1718774\n",
      "http://www.etmall.com.tw/Prod?nm=ttmax-裸妝女孩快速上妝系列-雙色遮瑕膏-精華粉底乳-蜜粉-3件組&StoreID=3&CategoryID=47565&ProductSKU=1718753\n",
      "http://www.etmall.com.tw/Prod?nm=ttmax-珍珠光感氣質美人系列-三色遮瑕-遮瑕刷-氣墊粉餅-蜜粉-4件組&StoreID=3&CategoryID=47565&ProductSKU=1718803\n",
      "http://www.etmall.com.tw/Prod?nm=ttmax-陶瓷肌三色遮瑕組-贈-遮瑕刷&StoreID=3&CategoryID=47565&ProductSKU=1718775\n",
      "http://www.etmall.com.tw/Prod?nm=ttmax-陶瓷肌三色遮瑕-2入-贈-雙頭遮瑕刷&StoreID=3&CategoryID=47565&ProductSKU=1718810\n",
      "http://www.etmall.com.tw/Prod?nm=ttmax-美麗女孩快速上妝系列-CC霜-遮瑕膏-蜜粉-3件組&StoreID=3&CategoryID=47565&ProductSKU=1718809\n",
      "http://www.etmall.com.tw/Prod?nm=ttmax-水凝長效立體光粉霜&StoreID=3&CategoryID=47565&ProductSKU=1718773\n",
      "http://www.etmall.com.tw/Prod?nm=Nature-Tree-無暇美顏組-白皙無瑕CC霜X3-遮瑕盤X1&StoreID=3&CategoryID=47565&ProductSKU=6246353\n",
      "http://www.etmall.com.tw/Prod?nm=Nature-Tree-無暇美顏組-白皙無瑕CC霜X3-遮瑕盤X1&StoreID=3&CategoryID=47565&ProductSKU=6230571\n",
      "http://www.etmall.com.tw/Prod?nm=Kanebo佳麗寶-BLS深層潤白遮瑕膏UV-2-5g&StoreID=3&CategoryID=47565&ProductSKU=6225996\n",
      "http://www.etmall.com.tw/Prod?nm=benefit-毛孔修正液-15ml&StoreID=3&CategoryID=47565&ProductSKU=6223014\n",
      "http://www.etmall.com.tw/Prod?nm=CHIC-CHOC-無瑕修修膏-2-5g&StoreID=3&CategoryID=47565&ProductSKU=6215772\n",
      "http://www.etmall.com.tw/Prod?nm=CHIC-CHOC-完美遮瑕筆4-2g&StoreID=3&CategoryID=47565&ProductSKU=6213648\n",
      "http://www.etmall.com.tw/Prod?nm=CHIC-CHOC-櫻花美姬柔焦隔離霜-25ml&StoreID=3&CategoryID=47565&ProductSKU=6212487\n",
      "http://www.etmall.com.tw/Prod?nm=AVANT-SCENE愛芬斯-韓國RUNWAY伸展台修容提肌餅&StoreID=3&CategoryID=47565&ProductSKU=6212007\n",
      "http://www.etmall.com.tw/Prod?nm=GUERLAIN-嬌蘭-輕裸感-瞬時柔焦遮瑕膏-12ml-03-公司貨&StoreID=3&CategoryID=47565&ProductSKU=6200284\n",
      "http://www.etmall.com.tw/Prod?nm=GUERLAIN-嬌蘭-輕裸感-瞬時柔焦遮瑕膏-12ml-02-公司貨&StoreID=3&CategoryID=47565&ProductSKU=6200283\n",
      "http://www.etmall.com.tw/Prod?nm=GUERLAIN-嬌蘭-輕裸感-瞬時柔焦遮瑕膏-12ml-01-公司貨&StoreID=3&CategoryID=47565&ProductSKU=6200282\n",
      "http://www.etmall.com.tw/Prod?nm=ESTEE-LAUDER-雅詩蘭黛-毛孔神隱柔焦膏-30ml&StoreID=3&CategoryID=47565&ProductSKU=6180760\n"
     ]
    }
   ],
   "source": [
    "href = []\n",
    "for i in soup.select('div.GOOD-img > a.GAEventTracking'):\n",
    "    href.append('http://www.etmall.com.tw/' + i['href'])\n",
    "    print('http://www.etmall.com.tw/' + i['href'])"
   ]
  },
  {
   "cell_type": "code",
   "execution_count": 103,
   "metadata": {},
   "outputs": [
    {
     "data": {
      "text/plain": [
       "'/home/ubuntu/project/EHS/眼影or彩盤/YADAH 極細緻BB蜜粉餅-白皙膚色.jpg'"
      ]
     },
     "execution_count": 103,
     "metadata": {},
     "output_type": "execute_result"
    }
   ],
   "source": [
    "path+'{}.jpg'.format(title[pic]).replace('\\t','').replace('\\\\', 'bs').replace('/', 's').replace(':', 'c').replace('<', 'less').replace('?', 'q').replace('\\\"', 'dq').replace('>', 'more').replace('\\x08', '@').replace('|', 'p').replace(\"*\", 's')"
   ]
  },
  {
   "cell_type": "code",
   "execution_count": 90,
   "metadata": {},
   "outputs": [
    {
     "data": {
      "text/plain": [
       "[<a class=\"next\" href=\"/SList?nm=%e9%81%ae%e7%91%95%e9%9c%9c&amp;StoreID=3&amp;CategoryID=47565&amp;ProductPage=1&amp;RecordsPerPage=60\" productpage=\"1\" recordsperpage=\"60\" title=\"下一頁\"> </a>,\n",
       " <a class=\"next\" href=\"/SList?nm=%e9%81%ae%e7%91%95%e9%9c%9c&amp;StoreID=3&amp;CategoryID=47565&amp;ProductPage=1&amp;RecordsPerPage=60\" productpage=\"1\" recordsperpage=\"60\" title=\"下一頁\"> </a>]"
      ]
     },
     "execution_count": 90,
     "metadata": {},
     "output_type": "execute_result"
    }
   ],
   "source": [
    "soup.select('a.next')"
   ]
  },
  {
   "cell_type": "code",
   "execution_count": 54,
   "metadata": {
    "collapsed": true
   },
   "outputs": [],
   "source": [
    "url = 'http://www.etmall.com.tw/SList?StoreID=3&CategoryID=99296'\n",
    "browser.visit(url)"
   ]
  },
  {
   "cell_type": "code",
   "execution_count": 55,
   "metadata": {},
   "outputs": [],
   "source": [
    "soup = BeautifulSoup(browser.html,'html5lib')"
   ]
  },
  {
   "cell_type": "code",
   "execution_count": 13,
   "metadata": {},
   "outputs": [],
   "source": [
    "cate = soup.select('div.open-category > a.wowowowo')"
   ]
  },
  {
   "cell_type": "code",
   "execution_count": 28,
   "metadata": {},
   "outputs": [
    {
     "data": {
      "text/plain": [
       "36"
      ]
     },
     "execution_count": 28,
     "metadata": {},
     "output_type": "execute_result"
    }
   ],
   "source": [
    "title = []\n",
    "for a in soup.select('div.GOOD-InfoBox > div.GOOD-NM > a'):\n",
    "    title.append(a.text)\n",
    "price = []\n",
    "for a in soup.select('div.GOOD-PRC'): \n",
    "    a = a.text.replace(' ','').replace('$','')\n",
    "    if '優惠價' in a:\n",
    "        a = a[(a.find('優惠價')+3):]\n",
    "    price.append(a)"
   ]
  },
  {
   "cell_type": "code",
   "execution_count": 50,
   "metadata": {},
   "outputs": [
    {
     "data": {
      "text/plain": [
       "[]"
      ]
     },
     "execution_count": 50,
     "metadata": {},
     "output_type": "execute_result"
    }
   ],
   "source": [
    "soup.select('a.next')"
   ]
  },
  {
   "cell_type": "code",
   "execution_count": 57,
   "metadata": {},
   "outputs": [
    {
     "name": "stdout",
     "output_type": "stream",
     "text": [
      "11\n"
     ]
    }
   ],
   "source": [
    "url = 'http://www.etmall.com.tw/SList?StoreID=3&CategoryID=47565'\n",
    "browser.visit(url)\n",
    "soup = BeautifulSoup(browser.html,'html5lib')\n",
    "if soup.select('a.next') :\n",
    "    print(11)"
   ]
  },
  {
   "cell_type": "code",
   "execution_count": 56,
   "metadata": {},
   "outputs": [],
   "source": [
    "if soup.select('a.next') :\n",
    "    print(11)"
   ]
  },
  {
   "cell_type": "code",
   "execution_count": 64,
   "metadata": {},
   "outputs": [
    {
     "data": {
      "text/plain": [
       "'/SList?nm=%e9%81%ae%e7%91%95%e9%9c%9c&StoreID=3&CategoryID=47565&ProductPage=1&RecordsPerPage=60'"
      ]
     },
     "execution_count": 64,
     "metadata": {},
     "output_type": "execute_result"
    }
   ],
   "source": [
    "soup.select('a.next')[0]['href']"
   ]
  },
  {
   "cell_type": "code",
   "execution_count": 72,
   "metadata": {},
   "outputs": [
    {
     "name": "stdout",
     "output_type": "stream",
     "text": [
      "/home/ubuntu/project/pixnet/makeup/素顏霜/\n",
      "/home/ubuntu/project/pixnet/makeup/遮瑕霜/\n",
      "/home/ubuntu/project/pixnet/makeup/睫毛膏/\n",
      "/home/ubuntu/project/pixnet/makeup/氣墊粉餅or氣墊霜/\n",
      "/home/ubuntu/project/pixnet/makeup/蜜粉or定妝噴霧/\n",
      "/home/ubuntu/project/pixnet/makeup/防曬乳or隔離霜/\n",
      "/home/ubuntu/project/pixnet/makeup/眼影or彩盤/\n",
      "/home/ubuntu/project/pixnet/makeup/眉筆or眉粉or眉膠/\n",
      "/home/ubuntu/project/pixnet/makeup/腮紅or修容/\n",
      "/home/ubuntu/project/pixnet/makeup/BBorCCorDD/\n",
      "/home/ubuntu/project/pixnet/makeup/粉底液or粉條/\n",
      "/home/ubuntu/project/pixnet/makeup/粉餅or粉凝霜/\n",
      "/home/ubuntu/project/pixnet/makeup/眼唇卸妝液or乳/\n",
      "/home/ubuntu/project/pixnet/makeup/眼線筆or眼線液or眼線膠/\n",
      "/home/ubuntu/project/pixnet/makeup/卸妝油or卸妝乳or卸妝水/\n",
      "/home/ubuntu/project/pixnet/makeup/飾底乳or妝前乳/\n",
      "/home/ubuntu/project/pixnet/makeup/口紅or唇釉or唇蜜/\n"
     ]
    }
   ],
   "source": [
    "for j in catelog:\n",
    "    j = j.replace('／','or')\n",
    "    path = '/home/ubuntu/project/pixnet/makeup/{}/'.format(j)\n",
    "    print(path)"
   ]
  },
  {
   "cell_type": "code",
   "execution_count": 71,
   "metadata": {},
   "outputs": [
    {
     "name": "stdout",
     "output_type": "stream",
     "text": [
      "素顏霜\n",
      "遮瑕霜\n",
      "睫毛膏\n",
      "氣墊粉餅／氣墊霜\n",
      "蜜粉／定妝噴霧\n",
      "防曬乳／隔離霜\n",
      "眼影／彩盤\n",
      "眉筆／眉粉／眉膠\n",
      "腮紅／修容\n",
      "BB／CC／DD\n",
      "粉底液／粉條\n",
      "粉餅／粉凝霜\n",
      "眼唇卸妝液／乳\n",
      "眼線筆／眼線液／眼線膠\n",
      "卸妝油／卸妝乳／卸妝水\n",
      "飾底乳／妝前乳\n",
      "口紅／唇釉／唇蜜\n"
     ]
    }
   ],
   "source": [
    "for j in catelog:\n",
    "    print(j)"
   ]
  },
  {
   "cell_type": "code",
   "execution_count": 78,
   "metadata": {},
   "outputs": [
    {
     "data": {
      "text/plain": [
       "[<img alt=\"ttmax 水凝長效立體光粉霜 4入\" class=\"main-img\" src=\"//media.etmall.com.tw/NXimg/001736/1736174/1736174_XL.jpg\"/>,\n",
       " <img alt=\"NARUKO牛爾 茶樹痘痘粉刺調理遮瑕膏\" class=\"main-img\" src=\"//media.etmall.com.tw/NXimg/001797/1797792/1797792_XL.jpg\"/>,\n",
       " <img alt=\"ttmax 精華粉底組&amp;陶瓷美肌三色遮瑕組\" class=\"main-img\" src=\"//media.etmall.com.tw/NXimg/001718/1718793/1718793_XL.jpg\"/>,\n",
       " <img alt=\"MAYBELLINE 媚比琳 純淨礦物遮瑕筆5.5ML\" class=\"main-img\" src=\"//media.etmall.com.tw/NXimg/006047/6047811/6047811_XL.jpg\"/>,\n",
       " <img alt=\"SHISEIDO 資生堂 完美遮瑕蜜(20g)*2 (＃S100)\" class=\"main-img\" src=\"//media.etmall.com.tw/NXimg/005361/5361152/5361152_XL.jpg\"/>,\n",
       " <img alt=\"SHISEIDO 資生堂 心機 嫩透遮瑕膏EX(3G)\" class=\"main-img\" src=\"//media.etmall.com.tw/NXimg/005369/5369477/5369477_XL.jpg\"/>,\n",
       " <img alt=\"SHISEIDO 資生堂 心機 嫩透遮瑕膏EX(3G)\" class=\"main-img\" src=\"//media.etmall.com.tw/NXimg/001534/1534712/1534712_XL.jpg\"/>,\n",
       " <img alt=\"Dior迪奧 超完美隱形遮瑕膏6ml ＃020 (公司貨無盒版)\" class=\"main-img\" src=\"//media.etmall.com.tw/NXimg/001849/1849238/1849238_XL.jpg\"/>,\n",
       " <img alt=\"【韓國LUNA】自然妝感修容遮瑕膏7.5g\" class=\"main-img\" src=\"//media.etmall.com.tw/NXimg/001832/1832187/1832187_XL.jpg\"/>,\n",
       " <img alt=\"STARSUKI 不思議三色遮瑕盤\" class=\"main-img\" src=\"//media.etmall.com.tw/NXimg/001831/1831368/1831368_XL.jpg\"/>,\n",
       " <img alt=\"【韓國LUNA】持久保濕遮瑕膏7.5g\" class=\"main-img\" src=\"//media.etmall.com.tw/NXimg/001832/1832186/1832186_XL.jpg\"/>,\n",
       " <img alt=\"RMK 隔離霜(15ml)*2\" class=\"main-img\" src=\"//media.etmall.com.tw/NXimg/001811/1811898/1811898_XL.jpg\"/>,\n",
       " <img alt=\"CHIC CHOC 亮顏無痕美肌組 (4款任選)\" class=\"main-img\" src=\"//media.etmall.com.tw/NXimg/001811/1811272/1811272_XL.jpg\"/>,\n",
       " <img alt=\"【日本MICCOSMO】蘋果光CC魔術筆(8g)\" class=\"main-img\" src=\"//media.etmall.com.tw/NXimg/001811/1811110/1811110_XL.jpg\"/>,\n",
       " <img alt=\"ttmax 懶美人素顏雪白霜2入 + 水潤亮采雙色遮瑕膏2入\" class=\"main-img\" src=\"//media.etmall.com.tw/NXimg/001797/1797707/1797707_XL.jpg\"/>,\n",
       " <img alt=\"ttmax 懶美人素顏雪白霜2入 + 完美淨膚遮瑕膏2入\" class=\"main-img\" src=\"//media.etmall.com.tw/NXimg/001797/1797706/1797706_XL.jpg\"/>,\n",
       " <img alt=\"ttmax 陶瓷肌三色遮瑕盤 2入 \" class=\"main-img\" src=\"//media.etmall.com.tw/NXimg/001797/1797639/1797639_XL.jpg\"/>,\n",
       " <img alt=\"ttmax 陶瓷肌三色遮瑕組 2入組\" class=\"main-img\" src=\"//media.etmall.com.tw/NXimg/001797/1797637/1797637_XL.jpg\"/>,\n",
       " <img alt=\"CLIO珂莉奧 Kill Cover專業遮瑕液筆 6g\" class=\"main-img\" src=\"//media.etmall.com.tw/NXimg/001789/1789224/1789224_XL.jpg\"/>,\n",
       " <img alt=\"KISS ME 奇士美-花漾美姬明眸亮采蜜12g\" class=\"main-img\" src=\"//media.etmall.com.tw/NXimg/001782/1782439/1782439_XL.jpg\"/>,\n",
       " <img alt=\"SISLEY 睛采無瑕霜15ml ＃3杏色\" class=\"main-img\" src=\"//media.etmall.com.tw/NXimg/001779/1779528/1779528_XL.jpg\"/>,\n",
       " <img alt=\"CHIC CHOC 柔焦隔離底妝組\" class=\"main-img\" src=\"//media.etmall.com.tw/NXimg/001770/1770557/1770557_XL.jpg\"/>,\n",
       " <img alt=\"ARITAUM 安瓶按壓式提亮液筆 3g\" class=\"main-img\" src=\"//media.etmall.com.tw/NXimg/001768/1768667/1768667_XL.jpg\"/>,\n",
       " <img alt=\"ARITAUM 安瓶按壓式遮瑕液筆 3g\" class=\"main-img\" src=\"//media.etmall.com.tw/NXimg/001768/1768666/1768666_XL.jpg\"/>,\n",
       " <img alt=\"LANCOME 蘭蔻 超輕盈UV水凝露SPF50PA++++(30ml)\" class=\"main-img\" src=\"//media.etmall.com.tw/NXimg/001765/1765132/1765132_XL.jpg\"/>,\n",
       " <img alt=\"ttmax 水凝長效立體光粉霜+雪紡柔膚礦物蜜粉 4入組\" class=\"main-img\" src=\"//media.etmall.com.tw/NXimg/001736/1736177/1736177_XL.jpg\"/>,\n",
       " <img alt=\"ttmax 水潤亮采雙色遮瑕膏 3入\" class=\"main-img\" src=\"//media.etmall.com.tw/NXimg/001735/1735317/1735317_XL.jpg\"/>,\n",
       " <img alt=\"ttmax 珍珠光感舒芙蕾精華粉霜+陶瓷肌三色遮瑕組\" class=\"main-img\" src=\"//media.etmall.com.tw/NXimg/001735/1735308/1735308_XL.jpg\"/>,\n",
       " <img alt=\"ttmax 全效完美修飾CC霜2入 + 雪紡柔膚礦物蜜粉1入\" class=\"main-img\" src=\"//media.etmall.com.tw/NXimg/001735/1735316/1735316_XL.jpg\"/>,\n",
       " <img alt=\"ttmax 完美淨膚遮瑕膏 3入 (明亮色.自然色)\" class=\"main-img\" src=\"//media.etmall.com.tw/NXimg/001735/1735318/1735318_XL.jpg\"/>,\n",
       " <img alt=\"ttmax 完美淨膚遮瑕膏（明亮色.自然色）\" class=\"main-img\" src=\"//media.etmall.com.tw/NXimg/001735/1735314/1735314_XL.jpg\"/>,\n",
       " <img alt=\"韓國COVER QUEEN 第七代遮瑕天后極潤粉凝霜三件組\" class=\"main-img\" src=\"//media.etmall.com.tw/NXimg/001728/1728860/1728860_XL.jpg\"/>,\n",
       " <img alt=\"【Jealousness婕洛妮絲】激光煥白精粹粉凝乳\" class=\"main-img\" src=\"//media.etmall.com.tw/NXimg/001727/1727889/1727889_XL.jpg\"/>,\n",
       " <img alt=\"【Jealousness婕洛妮絲】經典完美底妝旅行組\" class=\"main-img\" src=\"//media.etmall.com.tw/NXimg/001727/1727647/1727647_XL.jpg\"/>,\n",
       " <img alt=\"NARUKO牛爾 紅薏仁毛孔緊緻隱形寶\" class=\"main-img\" src=\"//media.etmall.com.tw/NXimg/001727/1727369/1727369_XL.jpg\"/>,\n",
       " <img alt=\"CHIC CHOC 柔焦修修筆2.1g (共2色)\" class=\"main-img\" src=\"//media.etmall.com.tw/NXimg/001727/1727193/1727193_XL.jpg\"/>,\n",
       " <img alt=\"【LEGERE 蘭吉兒】水透亮CC霜雙效遮瑕組SPF50(40gX3入)\" class=\"main-img\" src=\"//media.etmall.com.tw/NXimg/001724/1724854/1724854_XL.jpg\"/>,\n",
       " <img alt=\"【LEGERE 蘭吉兒】水透亮CC霜雙效遮瑕組SPF50(40g)\" class=\"main-img\" src=\"//media.etmall.com.tw/NXimg/001724/1724847/1724847_XL.jpg\"/>,\n",
       " <img alt=\"【LEGERE 蘭吉兒】水透亮CC霜雙效遮瑕組SPF50(40g)\" class=\"main-img\" src=\"//media.etmall.com.tw/NXimg/001724/1724800/1724800_XL.jpg\"/>,\n",
       " <img alt=\"ttmax 女神妝感精華系列 三色遮瑕+遮瑕刷+精華粉底液+無痕刷+水粉餅  5件組\" class=\"main-img\" src=\"//media.etmall.com.tw/NXimg/001718/1718801/1718801_XL.jpg\"/>,\n",
       " <img alt=\"ttmax 女神陶瓷肌系列 三色遮瑕+遮瑕刷+精華粉底液+無痕刷+蜜粉  5件組 \" class=\"main-img\" src=\"//media.etmall.com.tw/NXimg/001718/1718800/1718800_XL.jpg\"/>,\n",
       " <img alt=\"ttmax 水潤亮采雙色遮瑕膏\" class=\"main-img\" src=\"//media.etmall.com.tw/NXimg/001718/1718774/1718774_XL.jpg\"/>,\n",
       " <img alt=\"ttmax 裸妝女孩快速上妝系列 雙色遮瑕膏＋精華粉底乳＋蜜粉 (3件組)\" class=\"main-img\" src=\"//media.etmall.com.tw/NXimg/001718/1718753/1718753_XL.jpg\"/>,\n",
       " <img alt=\"ttmax 珍珠光感氣質美人系列 三色遮瑕+遮瑕刷+氣墊粉餅+蜜粉 4件組\" class=\"main-img\" src=\"//media.etmall.com.tw/NXimg/001718/1718803/1718803_XL.jpg\"/>,\n",
       " <img alt=\"ttmax 陶瓷肌三色遮瑕組 (贈 遮瑕刷)\" class=\"main-img\" src=\"//media.etmall.com.tw/NXimg/001718/1718775/1718775_XL.jpg\"/>,\n",
       " <img alt=\"ttmax 陶瓷肌三色遮瑕-2入 贈 雙頭遮瑕刷\" class=\"main-img\" src=\"//media.etmall.com.tw/NXimg/001718/1718810/1718810_XL.jpg\"/>,\n",
       " <img alt=\"ttmax 美麗女孩快速上妝系列 CC霜+遮瑕膏+蜜粉 3件組\" class=\"main-img\" src=\"//media.etmall.com.tw/NXimg/001718/1718809/1718809_XL.jpg\"/>,\n",
       " <img alt=\"ttmax  水凝長效立體光粉霜\" class=\"main-img\" src=\"//media.etmall.com.tw/NXimg/001718/1718773/1718773_XL.jpg\"/>,\n",
       " <img alt=\"Nature Tree 無暇美顏組-白皙無瑕CC霜X3+遮瑕盤X1\" class=\"main-img\" src=\"//media.etmall.com.tw/NXimg/006246/6246353/6246353_XL.jpg\"/>,\n",
       " <img alt=\"Nature Tree 無暇美顏組-白皙無瑕CC霜X3+遮瑕盤X1\" class=\"main-img\" src=\"//media.etmall.com.tw/NXimg/006230/6230571/6230571_XL.jpg\"/>,\n",
       " <img alt=\"Kanebo佳麗寶 BLS深層潤白遮瑕膏UV 2.5g\" class=\"main-img\" src=\"//media.etmall.com.tw/NXimg/006225/6225996/6225996_XL.jpg\"/>,\n",
       " <img alt=\"benefit 毛孔修正液(15ml)\" class=\"main-img\" src=\"//media.etmall.com.tw/NXimg/006223/6223014/6223014_XL.jpg\"/>,\n",
       " <img alt=\"CHIC CHOC 無瑕修修膏 2.5g\" class=\"main-img\" src=\"//media.etmall.com.tw/NXimg/006215/6215772/6215772_XL.jpg\"/>,\n",
       " <img alt=\"CHIC CHOC 完美遮瑕筆4.2g\" class=\"main-img\" src=\"//media.etmall.com.tw/NXimg/006213/6213648/6213648_XL.jpg\"/>,\n",
       " <img alt=\"CHIC CHOC 櫻花美姬柔焦隔離霜 25ml\" class=\"main-img\" src=\"//media.etmall.com.tw/NXimg/006212/6212487/6212487_XL.jpg\"/>,\n",
       " <img alt=\"【AVANT SCENE愛芬斯】韓國RUNWAY伸展台修容提肌餅\" class=\"main-img\" src=\"//media.etmall.com.tw/NXimg/006212/6212007/6212007_XL.jpg\"/>,\n",
       " <img alt=\"GUERLAIN 嬌蘭 輕裸感 瞬時柔焦遮瑕膏 12ml ＃03 公司貨\" class=\"main-img\" src=\"//media.etmall.com.tw/NXimg/006200/6200284/6200284_XL.jpg\"/>,\n",
       " <img alt=\"GUERLAIN 嬌蘭 輕裸感 瞬時柔焦遮瑕膏 12ml ＃02 公司貨\" class=\"main-img\" src=\"//media.etmall.com.tw/NXimg/006200/6200283/6200283_XL.jpg\"/>,\n",
       " <img alt=\"GUERLAIN 嬌蘭 輕裸感 瞬時柔焦遮瑕膏 12ml ＃01 公司貨\" class=\"main-img\" src=\"//media.etmall.com.tw/NXimg/006200/6200282/6200282_XL.jpg\"/>,\n",
       " <img alt=\"ESTEE LAUDER 雅詩蘭黛 毛孔神隱柔焦膏(30ml)\" class=\"main-img\" src=\"//media.etmall.com.tw/NXimg/006180/6180760/6180760_XL.jpg\"/>]"
      ]
     },
     "execution_count": 78,
     "metadata": {},
     "output_type": "execute_result"
    }
   ],
   "source": [
    "soup.select('div.imgSrc > img')"
   ]
  },
  {
   "cell_type": "code",
   "execution_count": 83,
   "metadata": {},
   "outputs": [
    {
     "data": {
      "text/plain": [
       "['http://media.etmall.com.tw/NXimg/001736/1736174/1736174_XL.jpg',\n",
       " 'http://media.etmall.com.tw/NXimg/001797/1797792/1797792_XL.jpg',\n",
       " 'http://media.etmall.com.tw/NXimg/001718/1718793/1718793_XL.jpg',\n",
       " 'http://media.etmall.com.tw/NXimg/006047/6047811/6047811_XL.jpg',\n",
       " 'http://media.etmall.com.tw/NXimg/005361/5361152/5361152_XL.jpg',\n",
       " 'http://media.etmall.com.tw/NXimg/005369/5369477/5369477_XL.jpg',\n",
       " 'http://media.etmall.com.tw/NXimg/001534/1534712/1534712_XL.jpg',\n",
       " 'http://media.etmall.com.tw/NXimg/001849/1849238/1849238_XL.jpg',\n",
       " 'http://media.etmall.com.tw/NXimg/001832/1832187/1832187_XL.jpg',\n",
       " 'http://media.etmall.com.tw/NXimg/001831/1831368/1831368_XL.jpg',\n",
       " 'http://media.etmall.com.tw/NXimg/001832/1832186/1832186_XL.jpg',\n",
       " 'http://media.etmall.com.tw/NXimg/001811/1811898/1811898_XL.jpg',\n",
       " 'http://media.etmall.com.tw/NXimg/001811/1811272/1811272_XL.jpg',\n",
       " 'http://media.etmall.com.tw/NXimg/001811/1811110/1811110_XL.jpg',\n",
       " 'http://media.etmall.com.tw/NXimg/001797/1797707/1797707_XL.jpg',\n",
       " 'http://media.etmall.com.tw/NXimg/001797/1797706/1797706_XL.jpg',\n",
       " 'http://media.etmall.com.tw/NXimg/001797/1797639/1797639_XL.jpg',\n",
       " 'http://media.etmall.com.tw/NXimg/001797/1797637/1797637_XL.jpg',\n",
       " 'http://media.etmall.com.tw/NXimg/001789/1789224/1789224_XL.jpg',\n",
       " 'http://media.etmall.com.tw/NXimg/001782/1782439/1782439_XL.jpg',\n",
       " 'http://media.etmall.com.tw/NXimg/001779/1779528/1779528_XL.jpg',\n",
       " 'http://media.etmall.com.tw/NXimg/001770/1770557/1770557_XL.jpg',\n",
       " 'http://media.etmall.com.tw/NXimg/001768/1768667/1768667_XL.jpg',\n",
       " 'http://media.etmall.com.tw/NXimg/001768/1768666/1768666_XL.jpg',\n",
       " 'http://media.etmall.com.tw/NXimg/001765/1765132/1765132_XL.jpg',\n",
       " 'http://media.etmall.com.tw/NXimg/001736/1736177/1736177_XL.jpg',\n",
       " 'http://media.etmall.com.tw/NXimg/001735/1735317/1735317_XL.jpg',\n",
       " 'http://media.etmall.com.tw/NXimg/001735/1735308/1735308_XL.jpg',\n",
       " 'http://media.etmall.com.tw/NXimg/001735/1735316/1735316_XL.jpg',\n",
       " 'http://media.etmall.com.tw/NXimg/001735/1735318/1735318_XL.jpg',\n",
       " 'http://media.etmall.com.tw/NXimg/001735/1735314/1735314_XL.jpg',\n",
       " 'http://media.etmall.com.tw/NXimg/001728/1728860/1728860_XL.jpg',\n",
       " 'http://media.etmall.com.tw/NXimg/001727/1727889/1727889_XL.jpg',\n",
       " 'http://media.etmall.com.tw/NXimg/001727/1727647/1727647_XL.jpg',\n",
       " 'http://media.etmall.com.tw/NXimg/001727/1727369/1727369_XL.jpg',\n",
       " 'http://media.etmall.com.tw/NXimg/001727/1727193/1727193_XL.jpg',\n",
       " 'http://media.etmall.com.tw/NXimg/001724/1724854/1724854_XL.jpg',\n",
       " 'http://media.etmall.com.tw/NXimg/001724/1724847/1724847_XL.jpg',\n",
       " 'http://media.etmall.com.tw/NXimg/001724/1724800/1724800_XL.jpg',\n",
       " 'http://media.etmall.com.tw/NXimg/001718/1718801/1718801_XL.jpg',\n",
       " 'http://media.etmall.com.tw/NXimg/001718/1718800/1718800_XL.jpg',\n",
       " 'http://media.etmall.com.tw/NXimg/001718/1718774/1718774_XL.jpg',\n",
       " 'http://media.etmall.com.tw/NXimg/001718/1718753/1718753_XL.jpg',\n",
       " 'http://media.etmall.com.tw/NXimg/001718/1718803/1718803_XL.jpg',\n",
       " 'http://media.etmall.com.tw/NXimg/001718/1718775/1718775_XL.jpg',\n",
       " 'http://media.etmall.com.tw/NXimg/001718/1718810/1718810_XL.jpg',\n",
       " 'http://media.etmall.com.tw/NXimg/001718/1718809/1718809_XL.jpg',\n",
       " 'http://media.etmall.com.tw/NXimg/001718/1718773/1718773_XL.jpg',\n",
       " 'http://media.etmall.com.tw/NXimg/006246/6246353/6246353_XL.jpg',\n",
       " 'http://media.etmall.com.tw/NXimg/006230/6230571/6230571_XL.jpg',\n",
       " 'http://media.etmall.com.tw/NXimg/006225/6225996/6225996_XL.jpg',\n",
       " 'http://media.etmall.com.tw/NXimg/006223/6223014/6223014_XL.jpg',\n",
       " 'http://media.etmall.com.tw/NXimg/006215/6215772/6215772_XL.jpg',\n",
       " 'http://media.etmall.com.tw/NXimg/006213/6213648/6213648_XL.jpg',\n",
       " 'http://media.etmall.com.tw/NXimg/006212/6212487/6212487_XL.jpg',\n",
       " 'http://media.etmall.com.tw/NXimg/006212/6212007/6212007_XL.jpg',\n",
       " 'http://media.etmall.com.tw/NXimg/006200/6200284/6200284_XL.jpg',\n",
       " 'http://media.etmall.com.tw/NXimg/006200/6200283/6200283_XL.jpg',\n",
       " 'http://media.etmall.com.tw/NXimg/006200/6200282/6200282_XL.jpg',\n",
       " 'http://media.etmall.com.tw/NXimg/006180/6180760/6180760_XL.jpg']"
      ]
     },
     "execution_count": 83,
     "metadata": {},
     "output_type": "execute_result"
    }
   ],
   "source": [
    "img = []\n",
    "for i in soup.select('div.imgSrc > img'):\n",
    "    img.append('http:'+i['src'])\n",
    "\n",
    "\n"
   ]
  },
  {
   "cell_type": "code",
   "execution_count": null,
   "metadata": {
    "collapsed": true
   },
   "outputs": [],
   "source": []
  }
 ],
 "metadata": {
  "kernelspec": {
   "display_name": "Python 3",
   "language": "python",
   "name": "python3"
  },
  "language_info": {
   "codemirror_mode": {
    "name": "ipython",
    "version": 3
   },
   "file_extension": ".py",
   "mimetype": "text/x-python",
   "name": "python",
   "nbconvert_exporter": "python",
   "pygments_lexer": "ipython3",
   "version": "3.6.1"
  }
 },
 "nbformat": 4,
 "nbformat_minor": 2
}
